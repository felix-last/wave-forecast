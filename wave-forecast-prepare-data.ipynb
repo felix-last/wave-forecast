{
 "cells": [
  {
   "cell_type": "code",
   "execution_count": 1,
   "metadata": {
    "collapsed": false
   },
   "outputs": [],
   "source": [
    "import os\n",
    "import math\n",
    "import pandas as pd\n",
    "import numpy as np\n",
    "import random\n",
    "import dateutil.parser\n",
    "import datetime\n",
    "import matplotlib.pyplot as plt\n",
    "import matplotlib.dates\n",
    "%matplotlib inline\n",
    "from pandas.tools.plotting import scatter_matrix\n",
    "from sklearn import linear_model, preprocessing\n",
    "#import statsmodels.formula.api as smf\n",
    "import statsmodels.api as sm\n",
    "import directional # from https://github.com/calben/directionalstatspy/\n",
    "from IPython.display import display\n",
    "import warnings"
   ]
  },
  {
   "cell_type": "code",
   "execution_count": 2,
   "metadata": {
    "collapsed": false,
    "scrolled": false
   },
   "outputs": [
    {
     "data": {
      "text/plain": [
       "$                           168\n",
       "dateStamp                    28\n",
       "dew_point                   168\n",
       "modelCode                    28\n",
       "modelRun                     28\n",
       "periodSchedule               28\n",
       "pressure                    168\n",
       "screen_relative_humidity    168\n",
       "sea_temperature             168\n",
       "surf_max                     28\n",
       "surf_min                     28\n",
       "swell_direction1             28\n",
       "swell_direction2             28\n",
       "swell_direction3             28\n",
       "swell_height1                28\n",
       "swell_height2                28\n",
       "swell_height3                28\n",
       "swell_period1                28\n",
       "swell_period2                28\n",
       "swell_period3                28\n",
       "temperature                 168\n",
       "wave_height                 168\n",
       "wave_period                 168\n",
       "wind_direction              168\n",
       "wind_speed                  168\n",
       "dtype: int64"
      ]
     },
     "execution_count": 2,
     "metadata": {},
     "output_type": "execute_result"
    }
   ],
   "source": [
    "csv_files = ['./data/'+file for file in os.listdir('./data/') if '.csv' in file]\n",
    "df_imported = pd.concat([pd.read_csv(file, index_col=0) for file in csv_files])\n",
    "df_imported.index = pd.DatetimeIndex(df_imported.index, freq='H')\n",
    "grouped = df_imported.groupby(level=0)\n",
    "df_imported = grouped.last()\n",
    "df_imported.count()"
   ]
  },
  {
   "cell_type": "code",
   "execution_count": 3,
   "metadata": {
    "collapsed": false
   },
   "outputs": [],
   "source": [
    "def plot_datetime_series(series, title, xlabel='Time', ylabel='', label=['b-', 'g-', 'r-', 'y-']):\n",
    "    if(type(series) is not list):\n",
    "        series = [series]\n",
    "    if(type(label) is not list):\n",
    "        label = [label]\n",
    "    for i, s in enumerate(series):\n",
    "        s = s.copy()\n",
    "        s.sort_index(inplace=True)\n",
    "        if type(s.index) is not pd.tseries.index.DatetimeIndex:\n",
    "            dates = matplotlib.dates.date2num([dateutil.parser.parse(dt) for dt in s.index])\n",
    "        else:\n",
    "            dates = s.index\n",
    "        plt.plot_date(\n",
    "            dates,\n",
    "            s.values,\n",
    "            label[i]\n",
    "        )\n",
    "    if title:\n",
    "        plt.title(title)\n",
    "    if ylabel != '':\n",
    "        plt.ylabel(ylabel)\n",
    "    plt.xlabel(xlabel)\n",
    "    plt.gcf().autofmt_xdate()\n",
    "    if len(series) > 1:\n",
    "        plt.legend([s.name for s in series], loc=2)\n",
    "    plt.show()"
   ]
  },
  {
   "cell_type": "code",
   "execution_count": 4,
   "metadata": {
    "collapsed": false
   },
   "outputs": [
    {
     "name": "stdout",
     "output_type": "stream",
     "text": [
      "available target values: 28\n"
     ]
    },
    {
     "data": {
      "image/png": "[encoded data removed]",
      "text/plain": [
       "<matplotlib.figure.Figure at 0x80497ee2e8>"
      ]
     },
     "metadata": {},
     "output_type": "display_data"
    },
    {
     "name": "stdout",
     "output_type": "stream",
     "text": [
      "target values after interpolation: 163\n"
     ]
    },
    {
     "data": {
      "image/png": "[encoded data removed]",
      "text/plain": [
       "<matplotlib.figure.Figure at 0x804989fb70>"
      ]
     },
     "metadata": {},
     "output_type": "display_data"
    }
   ],
   "source": [
    "target_var = 'surf_avg'\n",
    "s_target = pd.Series( (df_imported['surf_max'] + df_imported['surf_min']) / 2, name=target_var )\n",
    "print('available target values:', s_target.count())\n",
    "plot_datetime_series(s_target, 'Wave Height', 'Time', 'Average Wave Height in m', 'bx')\n",
    "# fill NAs with linearly interpolated data where explanatory data is present\n",
    "s_target = s_target.loc[df_imported['wind_speed'].notnull()].interpolate()\n",
    "#---respective data removed---- there's a big gap which we shouldn't interpolate\n",
    "#s_target['2016-05-16 14:00:00':'2016-05-18 00:00:00'] = None\n",
    "print('target values after interpolation:', s_target.count())  \n",
    "plot_datetime_series(s_target, 'Interpolated Wave Height', 'Time', 'Average Wave Height in m', 'bx')"
   ]
  },
  {
   "cell_type": "code",
   "execution_count": 5,
   "metadata": {
    "collapsed": false
   },
   "outputs": [
    {
     "data": {
      "text/html": [
       "<div>\n",
       "<table border=\"1\" class=\"dataframe\">\n",
       "  <thead>\n",
       "    <tr style=\"text-align: right;\">\n",
       "      <th></th>\n",
       "      <th>degrees</th>\n",
       "      <th>other_data</th>\n",
       "    </tr>\n",
       "  </thead>\n",
       "  <tbody>\n",
       "    <tr>\n",
       "      <th>0</th>\n",
       "      <td>359.9</td>\n",
       "      <td>1</td>\n",
       "    </tr>\n",
       "    <tr>\n",
       "      <th>1</th>\n",
       "      <td>359.9</td>\n",
       "      <td>2</td>\n",
       "    </tr>\n",
       "    <tr>\n",
       "      <th>2</th>\n",
       "      <td>0.1</td>\n",
       "      <td>3</td>\n",
       "    </tr>\n",
       "    <tr>\n",
       "      <th>3</th>\n",
       "      <td>0.1</td>\n",
       "      <td>4</td>\n",
       "    </tr>\n",
       "  </tbody>\n",
       "</table>\n",
       "</div>"
      ],
      "text/plain": [
       "   degrees  other_data\n",
       "0    359.9           1\n",
       "1    359.9           2\n",
       "2      0.1           3\n",
       "3      0.1           4"
      ]
     },
     "metadata": {},
     "output_type": "display_data"
    },
    {
     "data": {
      "text/html": [
       "<div>\n",
       "<table border=\"1\" class=\"dataframe\">\n",
       "  <thead>\n",
       "    <tr style=\"text-align: right;\">\n",
       "      <th></th>\n",
       "      <th>other_data</th>\n",
       "      <th>degrees--SIN</th>\n",
       "      <th>degrees--COS</th>\n",
       "    </tr>\n",
       "  </thead>\n",
       "  <tbody>\n",
       "    <tr>\n",
       "      <th>0</th>\n",
       "      <td>1</td>\n",
       "      <td>-0.001745</td>\n",
       "      <td>0.999998</td>\n",
       "    </tr>\n",
       "    <tr>\n",
       "      <th>1</th>\n",
       "      <td>2</td>\n",
       "      <td>-0.001745</td>\n",
       "      <td>0.999998</td>\n",
       "    </tr>\n",
       "    <tr>\n",
       "      <th>2</th>\n",
       "      <td>3</td>\n",
       "      <td>0.001745</td>\n",
       "      <td>0.999998</td>\n",
       "    </tr>\n",
       "    <tr>\n",
       "      <th>3</th>\n",
       "      <td>4</td>\n",
       "      <td>0.001745</td>\n",
       "      <td>0.999998</td>\n",
       "    </tr>\n",
       "  </tbody>\n",
       "</table>\n",
       "</div>"
      ],
      "text/plain": [
       "   other_data  degrees--SIN  degrees--COS\n",
       "0           1     -0.001745      0.999998\n",
       "1           2     -0.001745      0.999998\n",
       "2           3      0.001745      0.999998\n",
       "3           4      0.001745      0.999998"
      ]
     },
     "metadata": {},
     "output_type": "display_data"
    }
   ],
   "source": [
    "#directional.angle.radian_matrix_to_sin_cos_matrix(pd.DataFrame(df_explanatory['wind_direction']))?circular_example.drop\n",
    "def degrees_to_sin_cos(df_in, columns):\n",
    "    if(type(columns) is not list):\n",
    "        columns = [columns]\n",
    "    df_radians = df_in[columns].apply(lambda deg: deg * (math.pi / 180))\n",
    "    return pd.concat(\n",
    "        [\n",
    "            df_in.drop(columns, axis=1),\n",
    "            directional.angle.radian_matrix_to_sin_cos_matrix(df_radians[columns])\n",
    "        ], \n",
    "        axis=1)\n",
    "\n",
    "circular_example = pd.DataFrame({'degrees':[359.9, 359.9, 0.1, 0.1], 'other_data':[1,2,3,4]})\n",
    "#display(circular_example)\n",
    "#radians_example = pd.DataFrame({'radians': [deg * (math.pi / 180) for deg in circular_example['degrees']]})\n",
    "#display(radians_example)\n",
    "#display(directional.angle.radian_matrix_to_sin_cos_matrix(radians_example))\n",
    "\n",
    "display(circular_example)\n",
    "display(degrees_to_sin_cos(circular_example, 'degrees'))\n",
    "?math.sin"
   ]
  },
  {
   "cell_type": "code",
   "execution_count": 81,
   "metadata": {
    "collapsed": false
   },
   "outputs": [
    {
     "data": {
      "text/plain": [
       "2016-05-17 20:00:00    WSW\n",
       "2016-05-17 21:00:00    WSW\n",
       "2016-05-17 22:00:00    WSW\n",
       "2016-05-17 23:00:00      W\n",
       "2016-05-18 00:00:00      W\n",
       "Freq: H, Name: wind_direction, dtype: object"
      ]
     },
     "metadata": {},
     "output_type": "display_data"
    },
    {
     "name": "stdout",
     "output_type": "stream",
     "text": [
      "becomes\n"
     ]
    },
    {
     "data": {
      "text/plain": [
       "2016-05-17 20:00:00    247.5\n",
       "2016-05-17 21:00:00    247.5\n",
       "2016-05-17 22:00:00    247.5\n",
       "2016-05-17 23:00:00    270.0\n",
       "2016-05-18 00:00:00    270.0\n",
       "Freq: H, Name: wind_direction, dtype: float64"
      ]
     },
     "metadata": {},
     "output_type": "display_data"
    },
    {
     "name": "stdout",
     "output_type": "stream",
     "text": [
      "becomes\n"
     ]
    },
    {
     "data": {
      "text/html": [
       "<div>\n",
       "<table border=\"1\" class=\"dataframe\">\n",
       "  <thead>\n",
       "    <tr style=\"text-align: right;\">\n",
       "      <th></th>\n",
       "      <th>wind_direction--SIN</th>\n",
       "      <th>wind_direction--COS</th>\n",
       "    </tr>\n",
       "  </thead>\n",
       "  <tbody>\n",
       "    <tr>\n",
       "      <th>2016-05-17 20:00:00</th>\n",
       "      <td>-0.92388</td>\n",
       "      <td>-3.826834e-01</td>\n",
       "    </tr>\n",
       "    <tr>\n",
       "      <th>2016-05-17 21:00:00</th>\n",
       "      <td>-0.92388</td>\n",
       "      <td>-3.826834e-01</td>\n",
       "    </tr>\n",
       "    <tr>\n",
       "      <th>2016-05-17 22:00:00</th>\n",
       "      <td>-0.92388</td>\n",
       "      <td>-3.826834e-01</td>\n",
       "    </tr>\n",
       "    <tr>\n",
       "      <th>2016-05-17 23:00:00</th>\n",
       "      <td>-1.00000</td>\n",
       "      <td>-1.836970e-16</td>\n",
       "    </tr>\n",
       "    <tr>\n",
       "      <th>2016-05-18 00:00:00</th>\n",
       "      <td>-1.00000</td>\n",
       "      <td>-1.836970e-16</td>\n",
       "    </tr>\n",
       "  </tbody>\n",
       "</table>\n",
       "</div>"
      ],
      "text/plain": [
       "                     wind_direction--SIN  wind_direction--COS\n",
       "2016-05-17 20:00:00             -0.92388        -3.826834e-01\n",
       "2016-05-17 21:00:00             -0.92388        -3.826834e-01\n",
       "2016-05-17 22:00:00             -0.92388        -3.826834e-01\n",
       "2016-05-17 23:00:00             -1.00000        -1.836970e-16\n",
       "2016-05-18 00:00:00             -1.00000        -1.836970e-16"
      ]
     },
     "metadata": {},
     "output_type": "display_data"
    }
   ],
   "source": [
    "# sorted out at this point: 'dew_point', 'screen_relative_humidity', 'temperature', 'sea_temperature'\n",
    "df_explanatory = df_imported[['wind_direction', 'wind_speed', 'wave_height', 'wave_period', 'pressure']]\n",
    "df_explanatory = df_explanatory.dropna()\n",
    "df_explanatory\n",
    "display(df_explanatory['wind_direction'].head())\n",
    "compass_directions = ['N', 'NNE', 'NE', 'ENE', 'E', 'ESE', 'SE', 'SSE', 'S', 'SSW', 'SW', 'WSW', 'W', 'WNW', 'NW', 'NNW']\n",
    "df_explanatory['wind_direction'] = df_explanatory['wind_direction'].apply(lambda dir: (360 / len(compass_directions)) * compass_directions.index(dir))\n",
    "print('becomes')\n",
    "display(df_explanatory['wind_direction'].head())\n",
    "print('becomes')\n",
    "df_explanatory = degrees_to_sin_cos(df_explanatory, 'wind_direction')\n",
    "display(df_explanatory[['wind_direction--SIN','wind_direction--COS']].head())"
   ]
  },
  {
   "cell_type": "code",
   "execution_count": 7,
   "metadata": {
    "collapsed": false
   },
   "outputs": [
    {
     "name": "stdout",
     "output_type": "stream",
     "text": [
      "Data types of columns\n"
     ]
    },
    {
     "data": {
      "text/html": [
       "<div>\n",
       "<table border=\"1\" class=\"dataframe\">\n",
       "  <thead>\n",
       "    <tr style=\"text-align: right;\">\n",
       "      <th></th>\n",
       "      <th>0</th>\n",
       "    </tr>\n",
       "  </thead>\n",
       "  <tbody>\n",
       "    <tr>\n",
       "      <th>int64</th>\n",
       "      <td>wind_speed</td>\n",
       "    </tr>\n",
       "    <tr>\n",
       "      <th>float64</th>\n",
       "      <td>sea_temperature</td>\n",
       "    </tr>\n",
       "    <tr>\n",
       "      <th>float64</th>\n",
       "      <td>wave_height</td>\n",
       "    </tr>\n",
       "    <tr>\n",
       "      <th>float64</th>\n",
       "      <td>wave_period</td>\n",
       "    </tr>\n",
       "    <tr>\n",
       "      <th>int64</th>\n",
       "      <td>pressure</td>\n",
       "    </tr>\n",
       "    <tr>\n",
       "      <th>float64</th>\n",
       "      <td>wind_direction--SIN</td>\n",
       "    </tr>\n",
       "    <tr>\n",
       "      <th>float64</th>\n",
       "      <td>wind_direction--COS</td>\n",
       "    </tr>\n",
       "  </tbody>\n",
       "</table>\n",
       "</div>"
      ],
      "text/plain": [
       "                           0\n",
       "int64             wind_speed\n",
       "float64      sea_temperature\n",
       "float64          wave_height\n",
       "float64          wave_period\n",
       "int64               pressure\n",
       "float64  wind_direction--SIN\n",
       "float64  wind_direction--COS"
      ]
     },
     "execution_count": 7,
     "metadata": {},
     "output_type": "execute_result"
    }
   ],
   "source": [
    "print('Data types of columns')\n",
    "pd.DataFrame(df_explanatory.columns,[str(df_explanatory[column].dtype) for column in df_explanatory.columns])"
   ]
  },
  {
   "cell_type": "code",
   "execution_count": 8,
   "metadata": {
    "collapsed": false,
    "scrolled": true
   },
   "outputs": [
    {
     "data": {
      "text/plain": [
       "wind_speed             163\n",
       "sea_temperature        163\n",
       "wave_height            163\n",
       "wave_period            163\n",
       "pressure               163\n",
       "wind_direction--SIN    163\n",
       "wind_direction--COS    163\n",
       "surf_avg               163\n",
       "dtype: int64"
      ]
     },
     "execution_count": 8,
     "metadata": {},
     "output_type": "execute_result"
    }
   ],
   "source": [
    "df_train = pd.merge(df_explanatory, pd.DataFrame(s_target), left_index=True, right_index=True).dropna()\n",
    "df_train.count()"
   ]
  },
  {
   "cell_type": "markdown",
   "metadata": {},
   "source": [
    "# Normalization"
   ]
  },
  {
   "cell_type": "code",
   "execution_count": 9,
   "metadata": {
    "collapsed": false
   },
   "outputs": [
    {
     "data": {
      "text/html": [
       "<div>\n",
       "<table border=\"1\" class=\"dataframe\">\n",
       "  <thead>\n",
       "    <tr style=\"text-align: right;\">\n",
       "      <th></th>\n",
       "      <th>wind_speed</th>\n",
       "      <th>sea_temperature</th>\n",
       "      <th>wave_height</th>\n",
       "      <th>wave_period</th>\n",
       "      <th>pressure</th>\n",
       "      <th>wind_direction--SIN</th>\n",
       "      <th>wind_direction--COS</th>\n",
       "      <th>surf_avg</th>\n",
       "    </tr>\n",
       "  </thead>\n",
       "  <tbody>\n",
       "    <tr>\n",
       "      <th>2016-05-18 01:00:00</th>\n",
       "      <td>1.788204</td>\n",
       "      <td>-0.495969</td>\n",
       "      <td>0.380017</td>\n",
       "      <td>-0.697447</td>\n",
       "      <td>-0.329666</td>\n",
       "      <td>-0.681531</td>\n",
       "      <td>1.279265</td>\n",
       "      <td>0.178105</td>\n",
       "    </tr>\n",
       "    <tr>\n",
       "      <th>2016-05-18 02:00:00</th>\n",
       "      <td>1.101297</td>\n",
       "      <td>-0.495969</td>\n",
       "      <td>1.228550</td>\n",
       "      <td>0.706058</td>\n",
       "      <td>-0.507598</td>\n",
       "      <td>-0.787782</td>\n",
       "      <td>0.495550</td>\n",
       "      <td>0.109766</td>\n",
       "    </tr>\n",
       "    <tr>\n",
       "      <th>2016-05-18 03:00:00</th>\n",
       "      <td>1.101297</td>\n",
       "      <td>-0.495969</td>\n",
       "      <td>1.058843</td>\n",
       "      <td>0.706058</td>\n",
       "      <td>-0.507598</td>\n",
       "      <td>-0.681531</td>\n",
       "      <td>1.279265</td>\n",
       "      <td>0.041427</td>\n",
       "    </tr>\n",
       "    <tr>\n",
       "      <th>2016-05-18 04:00:00</th>\n",
       "      <td>1.330266</td>\n",
       "      <td>-0.495969</td>\n",
       "      <td>2.077082</td>\n",
       "      <td>0.706058</td>\n",
       "      <td>-0.507598</td>\n",
       "      <td>-0.681531</td>\n",
       "      <td>1.279265</td>\n",
       "      <td>-0.026912</td>\n",
       "    </tr>\n",
       "    <tr>\n",
       "      <th>2016-05-18 05:00:00</th>\n",
       "      <td>1.101297</td>\n",
       "      <td>-0.495969</td>\n",
       "      <td>1.907375</td>\n",
       "      <td>0.706058</td>\n",
       "      <td>-0.507598</td>\n",
       "      <td>-0.681531</td>\n",
       "      <td>1.279265</td>\n",
       "      <td>-0.095251</td>\n",
       "    </tr>\n",
       "  </tbody>\n",
       "</table>\n",
       "</div>"
      ],
      "text/plain": [
       "                     wind_speed  sea_temperature  wave_height  wave_period  \\\n",
       "2016-05-18 01:00:00    1.788204        -0.495969     0.380017    -0.697447   \n",
       "2016-05-18 02:00:00    1.101297        -0.495969     1.228550     0.706058   \n",
       "2016-05-18 03:00:00    1.101297        -0.495969     1.058843     0.706058   \n",
       "2016-05-18 04:00:00    1.330266        -0.495969     2.077082     0.706058   \n",
       "2016-05-18 05:00:00    1.101297        -0.495969     1.907375     0.706058   \n",
       "\n",
       "                     pressure  wind_direction--SIN  wind_direction--COS  \\\n",
       "2016-05-18 01:00:00 -0.329666            -0.681531             1.279265   \n",
       "2016-05-18 02:00:00 -0.507598            -0.787782             0.495550   \n",
       "2016-05-18 03:00:00 -0.507598            -0.681531             1.279265   \n",
       "2016-05-18 04:00:00 -0.507598            -0.681531             1.279265   \n",
       "2016-05-18 05:00:00 -0.507598            -0.681531             1.279265   \n",
       "\n",
       "                     surf_avg  \n",
       "2016-05-18 01:00:00  0.178105  \n",
       "2016-05-18 02:00:00  0.109766  \n",
       "2016-05-18 03:00:00  0.041427  \n",
       "2016-05-18 04:00:00 -0.026912  \n",
       "2016-05-18 05:00:00 -0.095251  "
      ]
     },
     "metadata": {},
     "output_type": "display_data"
    }
   ],
   "source": [
    "with warnings.catch_warnings():\n",
    "    warnings.simplefilter(\"ignore\")\n",
    "    df_train= df_train.apply(preprocessing.scale)\n",
    "display(df_train.head())"
   ]
  },
  {
   "cell_type": "code",
   "execution_count": 82,
   "metadata": {
    "collapsed": false
   },
   "outputs": [
    {
     "data": {
      "image/png": "[encoded data removed]",
      "text/plain": [
       "<matplotlib.figure.Figure at 0x804bee8cc0>"
      ]
     },
     "metadata": {},
     "output_type": "display_data"
    }
   ],
   "source": [
    "def plot_scatter_correlation(df, target):\n",
    "    fig, axes = plt.subplots(nrows=math.ceil(len(df.columns)/4), ncols=4, sharex=True, sharey=True)\n",
    "    fig.set_figwidth(15)\n",
    "    fig.set_figheight(7)\n",
    "    for i,variable in enumerate(df.columns):\n",
    "        row = 0\n",
    "        col = i\n",
    "        if i > 3:\n",
    "            row = 1\n",
    "            col = i - 4\n",
    "        correlation = df[variable].corr(target)\n",
    "        title = variable + ': ' + \"{:.5f}\".format(correlation)      \n",
    "        df_train.plot.scatter(x=variable, y=target_var, marker='+', ax=axes[row,col], title=title)\n",
    "\n",
    "plot_scatter_correlation(df_train[df_explanatory.columns], df_train[target_var])"
   ]
  },
  {
   "cell_type": "markdown",
   "metadata": {},
   "source": [
    "# Cross Correlation"
   ]
  },
  {
   "cell_type": "code",
   "execution_count": 85,
   "metadata": {
    "collapsed": false
   },
   "outputs": [
    {
     "data": {
      "image/png": "[encoded data removed]",
      "text/plain": [
       "<matplotlib.figure.Figure at 0x804c05a978>"
      ]
     },
     "metadata": {},
     "output_type": "display_data"
    }
   ],
   "source": [
    "fig, axes = plt.subplots(nrows=2, ncols=4, sharey=True)\n",
    "fig.set_figwidth(15)\n",
    "fig.set_figheight(7)\n",
    "for i,var in enumerate(df_explanatory.columns):\n",
    "    row = 0\n",
    "    col = i\n",
    "    if i > 3:\n",
    "        row = 1\n",
    "        col = i - 4\n",
    "    axes[row][col].xcorr(df_train[var], df_train[target_var], maxlags=24)\n",
    "    axes[row][col].set_title(var)"
   ]
  },
  {
   "cell_type": "markdown",
   "metadata": {},
   "source": [
    "The highest correlation seems to be at a lag of about -5, but is different for each variable. \n",
    "- Wind speed appears to have a very high lag, just like the wind direction.\n",
    "- Wave height and wave period both have a lag around 5."
   ]
  },
  {
   "cell_type": "code",
   "execution_count": 80,
   "metadata": {
    "collapsed": false
   },
   "outputs": [
    {
     "data": {
      "text/html": [
       "<div>\n",
       "<table border=\"1\" class=\"dataframe\">\n",
       "  <thead>\n",
       "    <tr style=\"text-align: right;\">\n",
       "      <th></th>\n",
       "      <th>unlagged</th>\n",
       "      <th>lag 3</th>\n",
       "      <th>lag 4</th>\n",
       "      <th>lag 5</th>\n",
       "      <th>lag 6</th>\n",
       "    </tr>\n",
       "  </thead>\n",
       "  <tbody>\n",
       "    <tr>\n",
       "      <th>wind_speed</th>\n",
       "      <td>0.224433</td>\n",
       "      <td>0.260023</td>\n",
       "      <td>0.277957</td>\n",
       "      <td>0.296264</td>\n",
       "      <td>0.296920</td>\n",
       "    </tr>\n",
       "    <tr>\n",
       "      <th>sea_temperature</th>\n",
       "      <td>-0.121992</td>\n",
       "      <td>-0.225136</td>\n",
       "      <td>-0.276903</td>\n",
       "      <td>-0.267391</td>\n",
       "      <td>-0.280911</td>\n",
       "    </tr>\n",
       "    <tr>\n",
       "      <th>wave_height</th>\n",
       "      <td>0.505318</td>\n",
       "      <td>0.588375</td>\n",
       "      <td>0.587433</td>\n",
       "      <td>0.588734</td>\n",
       "      <td>0.556850</td>\n",
       "    </tr>\n",
       "    <tr>\n",
       "      <th>wave_period</th>\n",
       "      <td>0.320017</td>\n",
       "      <td>0.383056</td>\n",
       "      <td>0.394975</td>\n",
       "      <td>0.401218</td>\n",
       "      <td>0.349620</td>\n",
       "    </tr>\n",
       "    <tr>\n",
       "      <th>pressure</th>\n",
       "      <td>0.067540</td>\n",
       "      <td>0.042775</td>\n",
       "      <td>0.030927</td>\n",
       "      <td>0.021330</td>\n",
       "      <td>0.014160</td>\n",
       "    </tr>\n",
       "    <tr>\n",
       "      <th>wind_direction--SIN</th>\n",
       "      <td>0.224970</td>\n",
       "      <td>0.237775</td>\n",
       "      <td>0.243344</td>\n",
       "      <td>0.249678</td>\n",
       "      <td>0.256892</td>\n",
       "    </tr>\n",
       "    <tr>\n",
       "      <th>wind_direction--COS</th>\n",
       "      <td>0.317498</td>\n",
       "      <td>0.352510</td>\n",
       "      <td>0.357256</td>\n",
       "      <td>0.358952</td>\n",
       "      <td>0.357256</td>\n",
       "    </tr>\n",
       "  </tbody>\n",
       "</table>\n",
       "</div>"
      ],
      "text/plain": [
       "                     unlagged     lag 3     lag 4     lag 5     lag 6\n",
       "wind_speed           0.224433  0.260023  0.277957  0.296264  0.296920\n",
       "sea_temperature     -0.121992 -0.225136 -0.276903 -0.267391 -0.280911\n",
       "wave_height          0.505318  0.588375  0.587433  0.588734  0.556850\n",
       "wave_period          0.320017  0.383056  0.394975  0.401218  0.349620\n",
       "pressure             0.067540  0.042775  0.030927  0.021330  0.014160\n",
       "wind_direction--SIN  0.224970  0.237775  0.243344  0.249678  0.256892\n",
       "wind_direction--COS  0.317498  0.352510  0.357256  0.358952  0.357256"
      ]
     },
     "metadata": {},
     "output_type": "display_data"
    }
   ],
   "source": [
    "lag_compare = pd.DataFrame(\n",
    "    {'unlagged': [df_train[column].corr(df_train[target_var]) for column in df_explanatory.columns]},\n",
    "    index = df_explanatory.columns\n",
    ")\n",
    "for lag in range(3,7):\n",
    "    lag_compare['lag '+str(lag)] = [df_train[target_var].shift(-1 * lag).corr(df_train[column]) for column in df_explanatory.columns] \n",
    "display(lag_compare)\n",
    "\n",
    "df_lagged = df_train.copy()\n",
    "df_lagged[target_var] = df_lagged[target_var].shift(-5)"
   ]
  },
  {
   "cell_type": "code",
   "execution_count": 73,
   "metadata": {
    "collapsed": false
   },
   "outputs": [
    {
     "data": {
      "text/html": [
       "<div>\n",
       "<table border=\"1\" class=\"dataframe\">\n",
       "  <thead>\n",
       "    <tr style=\"text-align: right;\">\n",
       "      <th></th>\n",
       "      <th>no ewma</th>\n",
       "      <th>ewma 2</th>\n",
       "      <th>ewma 3</th>\n",
       "      <th>ewma 4</th>\n",
       "      <th>ewma 5</th>\n",
       "      <th>ewma 6</th>\n",
       "      <th>ewma 7</th>\n",
       "      <th>ewma 8</th>\n",
       "      <th>ewma 9</th>\n",
       "    </tr>\n",
       "  </thead>\n",
       "  <tbody>\n",
       "    <tr>\n",
       "      <th>wind_speed</th>\n",
       "      <td>0.277957</td>\n",
       "      <td>0.294825</td>\n",
       "      <td>0.305424</td>\n",
       "      <td>0.314513</td>\n",
       "      <td>0.322807</td>\n",
       "      <td>0.330405</td>\n",
       "      <td>0.337245</td>\n",
       "      <td>0.343219</td>\n",
       "      <td>0.348231</td>\n",
       "    </tr>\n",
       "    <tr>\n",
       "      <th>sea_temperature</th>\n",
       "      <td>-0.276903</td>\n",
       "      <td>-0.304496</td>\n",
       "      <td>-0.308748</td>\n",
       "      <td>-0.302372</td>\n",
       "      <td>-0.291440</td>\n",
       "      <td>-0.278786</td>\n",
       "      <td>-0.265728</td>\n",
       "      <td>-0.252854</td>\n",
       "      <td>-0.240399</td>\n",
       "    </tr>\n",
       "    <tr>\n",
       "      <th>wave_height</th>\n",
       "      <td>0.587433</td>\n",
       "      <td>0.594345</td>\n",
       "      <td>0.592653</td>\n",
       "      <td>0.586446</td>\n",
       "      <td>0.576537</td>\n",
       "      <td>0.563663</td>\n",
       "      <td>0.548550</td>\n",
       "      <td>0.531842</td>\n",
       "      <td>0.514070</td>\n",
       "    </tr>\n",
       "    <tr>\n",
       "      <th>wave_period</th>\n",
       "      <td>0.394975</td>\n",
       "      <td>0.427650</td>\n",
       "      <td>0.434191</td>\n",
       "      <td>0.430756</td>\n",
       "      <td>0.421412</td>\n",
       "      <td>0.408240</td>\n",
       "      <td>0.392708</td>\n",
       "      <td>0.375912</td>\n",
       "      <td>0.358642</td>\n",
       "    </tr>\n",
       "    <tr>\n",
       "      <th>pressure</th>\n",
       "      <td>0.030927</td>\n",
       "      <td>0.026608</td>\n",
       "      <td>0.022490</td>\n",
       "      <td>0.018645</td>\n",
       "      <td>0.015216</td>\n",
       "      <td>0.012279</td>\n",
       "      <td>0.009856</td>\n",
       "      <td>0.007945</td>\n",
       "      <td>0.006525</td>\n",
       "    </tr>\n",
       "    <tr>\n",
       "      <th>wind_direction--SIN</th>\n",
       "      <td>0.243344</td>\n",
       "      <td>0.248687</td>\n",
       "      <td>0.253903</td>\n",
       "      <td>0.259516</td>\n",
       "      <td>0.265594</td>\n",
       "      <td>0.272099</td>\n",
       "      <td>0.278947</td>\n",
       "      <td>0.286030</td>\n",
       "      <td>0.293242</td>\n",
       "    </tr>\n",
       "    <tr>\n",
       "      <th>wind_direction--COS</th>\n",
       "      <td>0.357256</td>\n",
       "      <td>0.366062</td>\n",
       "      <td>0.369110</td>\n",
       "      <td>0.369626</td>\n",
       "      <td>0.368529</td>\n",
       "      <td>0.366214</td>\n",
       "      <td>0.362878</td>\n",
       "      <td>0.358645</td>\n",
       "      <td>0.353631</td>\n",
       "    </tr>\n",
       "  </tbody>\n",
       "</table>\n",
       "</div>"
      ],
      "text/plain": [
       "                      no ewma    ewma 2    ewma 3    ewma 4    ewma 5  \\\n",
       "wind_speed           0.277957  0.294825  0.305424  0.314513  0.322807   \n",
       "sea_temperature     -0.276903 -0.304496 -0.308748 -0.302372 -0.291440   \n",
       "wave_height          0.587433  0.594345  0.592653  0.586446  0.576537   \n",
       "wave_period          0.394975  0.427650  0.434191  0.430756  0.421412   \n",
       "pressure             0.030927  0.026608  0.022490  0.018645  0.015216   \n",
       "wind_direction--SIN  0.243344  0.248687  0.253903  0.259516  0.265594   \n",
       "wind_direction--COS  0.357256  0.366062  0.369110  0.369626  0.368529   \n",
       "\n",
       "                       ewma 6    ewma 7    ewma 8    ewma 9  \n",
       "wind_speed           0.330405  0.337245  0.343219  0.348231  \n",
       "sea_temperature     -0.278786 -0.265728 -0.252854 -0.240399  \n",
       "wave_height          0.563663  0.548550  0.531842  0.514070  \n",
       "wave_period          0.408240  0.392708  0.375912  0.358642  \n",
       "pressure             0.012279  0.009856  0.007945  0.006525  \n",
       "wind_direction--SIN  0.272099  0.278947  0.286030  0.293242  \n",
       "wind_direction--COS  0.366214  0.362878  0.358645  0.353631  "
      ]
     },
     "execution_count": 73,
     "metadata": {},
     "output_type": "execute_result"
    }
   ],
   "source": [
    "corr_with_target = pd.DataFrame(\n",
    "    {'no ewma': [df_lagged[column].corr(df_lagged[target_var]) for column in df_explanatory.columns]},\n",
    "    index = df_explanatory.columns\n",
    ")\n",
    "#df_ewma3 = pd.ewma(df_explanatory, span=3)\n",
    "for span in range(2,10):\n",
    "    corr_with_target['ewma '+str(span)] = pd.Series([ pd.ewma(df_lagged[column], span=span).corr(df_lagged[target_var]) for column in df_explanatory.columns], index=df_explanatory.columns)\n",
    "corr_with_target\n",
    "#column = 'pressure'\n",
    "#pd.ewma(df_train[column], span=3).corr(df_train[target_var])"
   ]
  },
  {
   "cell_type": "code",
   "execution_count": 137,
   "metadata": {
    "collapsed": false
   },
   "outputs": [
    {
     "data": {
      "text/plain": [
       "[<matplotlib.lines.Line2D at 0xf3cca8f6d8>]"
      ]
     },
     "execution_count": 137,
     "metadata": {},
     "output_type": "execute_result"
    },
    {
     "data": {
      "image/png": "[encoded data removed]",
      "text/plain": [
       "<matplotlib.figure.Figure at 0xf3cc9b0630>"
      ]
     },
     "metadata": {},
     "output_type": "display_data"
    }
   ],
   "source": [
    "plt.plot(pd.ewma(df_train['wind_speed'], span=12), df_train[target_var], 'b+')\n",
    "plt.plot(pd.ewma(df_train['wave_height'], span=12), df_train[target_var], 'rx')"
   ]
  },
  {
   "cell_type": "code",
   "execution_count": 138,
   "metadata": {
    "collapsed": false
   },
   "outputs": [],
   "source": [
    "# randomly sample a train and test set\n",
    "def split_dataset(df_in, percent_test):\n",
    "    total_size = len(df_in)\n",
    "    test_set_size = math.floor(percent_test * total_size)\n",
    "    df_train = df_in.copy()\n",
    "    record_labels = [ df_train.index[randint] for randint in random.sample(range(total_size), test_set_size) ]\n",
    "    df_test = pd.DataFrame(df_train.loc[record_labels])\n",
    "    df_train = df_train.drop(record_labels)\n",
    "    return df_train, df_test"
   ]
  },
  {
   "cell_type": "code",
   "execution_count": 139,
   "metadata": {
    "collapsed": false
   },
   "outputs": [
    {
     "name": "stdout",
     "output_type": "stream",
     "text": [
      "coefficients:  [-4.99003028  0.87789922  0.02039438 -0.09283538  1.45501816  5.44515644\n",
      "  1.70354693 -0.12850286  0.6915702   0.78269723]\n"
     ]
    },
    {
     "data": {
      "image/png": "[encoded data removed]",
      "text/plain": [
       "<matplotlib.figure.Figure at 0xf3cc9b01d0>"
      ]
     },
     "metadata": {},
     "output_type": "display_data"
    }
   ],
   "source": [
    "# perform predictionon unaveraged data\n",
    "regr = linear_model.LinearRegression()\n",
    "train_set, test_set = split_dataset(df_train, 0.3)\n",
    "regr.fit(train_set[df_explanatory.columns].as_matrix(), train_set[target_var].as_matrix())\n",
    "coefficients = regr.coef_\n",
    "print('coefficients: ', coefficients)\n",
    "\n",
    "predictions = pd.Series(regr.predict(test_set[df_explanatory.columns].as_matrix()), index=test_set.index, name='Prediction')\n",
    "plot_datetime_series([test_set[target_var], predictions], 'Predicted Wave Height for Test Set', 'Time', 'Average Wave Height in m')"
   ]
  },
  {
   "cell_type": "code",
   "execution_count": 140,
   "metadata": {
    "collapsed": false
   },
   "outputs": [
    {
     "name": "stdout",
     "output_type": "stream",
     "text": [
      "coefficients:  [-15.56746034   2.76051981  -0.03034087  -0.15481599  -0.04183947\n",
      "  16.55285896   1.58227377   0.72140922   1.98505836   2.31836053]\n",
      "intercept:  -256.579471892\n"
     ]
    },
    {
     "data": {
      "image/png": "[encoded data removed]",
      "text/plain": [
       "<matplotlib.figure.Figure at 0xf3cca0d9e8>"
      ]
     },
     "metadata": {},
     "output_type": "display_data"
    }
   ],
   "source": [
    "# perform prediction on ewma with span 12\n",
    "regr = linear_model.LinearRegression()\n",
    "df_ewma12 = pd.concat([pd.ewma(df_train[df_explanatory.columns], span=12), df_train[target_var]], axis=1)\n",
    "train_set, test_set = split_dataset(df_ewma12, 0.3)\n",
    "regr.fit(train_set[df_explanatory.columns].as_matrix(), train_set[target_var].as_matrix())\n",
    "coefficients = regr.coef_\n",
    "intercept = regr.intercept_\n",
    "print('coefficients: ', coefficients)\n",
    "print('intercept: ', intercept)\n",
    "predictions = pd.Series(regr.predict(test_set[df_explanatory.columns].as_matrix()), index=test_set.index, name='Prediction')\n",
    "plot_datetime_series([test_set[target_var], predictions], 'Predicted Wave Height for Test Set (ewma12)', 'Time', 'Average Wave Height in m')"
   ]
  },
  {
   "cell_type": "code",
   "execution_count": 141,
   "metadata": {
    "collapsed": false,
    "scrolled": true
   },
   "outputs": [
    {
     "data": {
      "text/plain": [
       "<matplotlib.text.Text at 0xf3caf41eb8>"
      ]
     },
     "execution_count": 141,
     "metadata": {},
     "output_type": "execute_result"
    },
    {
     "data": {
      "image/png": "[encoded data removed]",
      "text/plain": [
       "<matplotlib.figure.Figure at 0xf3cb8a1e48>"
      ]
     },
     "metadata": {},
     "output_type": "display_data"
    }
   ],
   "source": [
    "plt.scatter(\n",
    "    test_set['wind_speed'],\n",
    "    test_set[target_var],\n",
    "    color='b'\n",
    ")\n",
    "plt.scatter(\n",
    "    test_set['wave_height'],\n",
    "    test_set[target_var],\n",
    "    color='g'\n",
    ")\n",
    "\n",
    "predictions_wind_speed = pd.Series(regr.predict(test_set[df_explanatory.columns].as_matrix()), index=test_set['wind_speed'], name='Prediction').sort_index()\n",
    "predictions_wave_height = pd.Series(regr.predict(test_set[df_explanatory.columns].as_matrix()), index=test_set['wave_height'], name='Prediction').sort_index()\n",
    "\n",
    "plt.plot([test_set['wind_speed'].min(), test_set['wind_speed'].max()], [predictions_wind_speed.iloc[0], predictions_wind_speed.iloc[-1]])\n",
    "plt.plot([test_set['wave_height'].min(), test_set['wave_height'].max()], [predictions_wave_height.iloc[0], predictions_wave_height.iloc[-1]])\n",
    "plt.legend(['Wind Speed (Predicted)', 'Wave Height (Predicted)', 'Wind Speed (Actual)', 'Wave Height (Actual)'], bbox_to_anchor=(1.65, 0), loc='lower right')\n",
    "plt.ylabel('Wave Height in m')"
   ]
  },
  {
   "cell_type": "code",
   "execution_count": 142,
   "metadata": {
    "collapsed": false
   },
   "outputs": [
    {
     "data": {
      "text/html": [
       "<table class=\"simpletable\">\n",
       "<caption>OLS Regression Results</caption>\n",
       "<tr>\n",
       "  <th>Dep. Variable:</th>        <td>surf_avg</td>     <th>  R-squared:         </th> <td>   0.948</td>\n",
       "</tr>\n",
       "<tr>\n",
       "  <th>Model:</th>                   <td>OLS</td>       <th>  Adj. R-squared:    </th> <td>   0.944</td>\n",
       "</tr>\n",
       "<tr>\n",
       "  <th>Method:</th>             <td>Least Squares</td>  <th>  F-statistic:       </th> <td>   238.1</td>\n",
       "</tr>\n",
       "<tr>\n",
       "  <th>Date:</th>             <td>Wed, 25 May 2016</td> <th>  Prob (F-statistic):</th> <td>1.84e-78</td>\n",
       "</tr>\n",
       "<tr>\n",
       "  <th>Time:</th>                 <td>15:18:24</td>     <th>  Log-Likelihood:    </th> <td> -145.29</td>\n",
       "</tr>\n",
       "<tr>\n",
       "  <th>No. Observations:</th>      <td>   140</td>      <th>  AIC:               </th> <td>   310.6</td>\n",
       "</tr>\n",
       "<tr>\n",
       "  <th>Df Residuals:</th>          <td>   130</td>      <th>  BIC:               </th> <td>   340.0</td>\n",
       "</tr>\n",
       "<tr>\n",
       "  <th>Df Model:</th>              <td>    10</td>      <th>                     </th>     <td> </td>   \n",
       "</tr>\n",
       "<tr>\n",
       "  <th>Covariance Type:</th>      <td>nonrobust</td>    <th>                     </th>     <td> </td>   \n",
       "</tr>\n",
       "</table>\n",
       "<table class=\"simpletable\">\n",
       "<tr>\n",
       "              <td></td>                <th>coef</th>     <th>std err</th>      <th>t</th>      <th>P>|t|</th> <th>[95.0% Conf. Int.]</th> \n",
       "</tr>\n",
       "<tr>\n",
       "  <th>dew_point</th>                <td>   -5.5594</td> <td>    1.578</td> <td>   -3.523</td> <td> 0.001</td> <td>   -8.682    -2.437</td>\n",
       "</tr>\n",
       "<tr>\n",
       "  <th>screen_relative_humidity</th> <td>    0.9761</td> <td>    0.270</td> <td>    3.617</td> <td> 0.000</td> <td>    0.442     1.510</td>\n",
       "</tr>\n",
       "<tr>\n",
       "  <th>pressure</th>                 <td>   -0.1065</td> <td>    0.023</td> <td>   -4.727</td> <td> 0.000</td> <td>   -0.151    -0.062</td>\n",
       "</tr>\n",
       "<tr>\n",
       "  <th>wind_speed</th>               <td>   -0.2005</td> <td>    0.064</td> <td>   -3.134</td> <td> 0.002</td> <td>   -0.327    -0.074</td>\n",
       "</tr>\n",
       "<tr>\n",
       "  <th>sea_temperature</th>          <td>   -0.7451</td> <td>    1.567</td> <td>   -0.475</td> <td> 0.635</td> <td>   -3.845     2.355</td>\n",
       "</tr>\n",
       "<tr>\n",
       "  <th>temperature</th>              <td>    7.0864</td> <td>    1.872</td> <td>    3.784</td> <td> 0.000</td> <td>    3.382    10.791</td>\n",
       "</tr>\n",
       "<tr>\n",
       "  <th>wave_height</th>              <td>    1.1509</td> <td>    0.328</td> <td>    3.511</td> <td> 0.001</td> <td>    0.502     1.799</td>\n",
       "</tr>\n",
       "<tr>\n",
       "  <th>wave_period</th>              <td>    0.9278</td> <td>    0.310</td> <td>    2.990</td> <td> 0.003</td> <td>    0.314     1.542</td>\n",
       "</tr>\n",
       "<tr>\n",
       "  <th>wind_direction--SIN</th>      <td>    2.0420</td> <td>    0.279</td> <td>    7.307</td> <td> 0.000</td> <td>    1.489     2.595</td>\n",
       "</tr>\n",
       "<tr>\n",
       "  <th>wind_direction--COS</th>      <td>    2.6420</td> <td>    0.435</td> <td>    6.078</td> <td> 0.000</td> <td>    1.782     3.502</td>\n",
       "</tr>\n",
       "</table>\n",
       "<table class=\"simpletable\">\n",
       "<tr>\n",
       "  <th>Omnibus:</th>       <td>80.062</td> <th>  Durbin-Watson:     </th> <td>   0.335</td> \n",
       "</tr>\n",
       "<tr>\n",
       "  <th>Prob(Omnibus):</th> <td> 0.000</td> <th>  Jarque-Bera (JB):  </th> <td> 551.730</td> \n",
       "</tr>\n",
       "<tr>\n",
       "  <th>Skew:</th>          <td> 1.900</td> <th>  Prob(JB):          </th> <td>1.56e-120</td>\n",
       "</tr>\n",
       "<tr>\n",
       "  <th>Kurtosis:</th>      <td>11.952</td> <th>  Cond. No.          </th> <td>4.68e+04</td> \n",
       "</tr>\n",
       "</table>"
      ],
      "text/plain": [
       "<class 'statsmodels.iolib.summary.Summary'>\n",
       "\"\"\"\n",
       "                            OLS Regression Results                            \n",
       "==============================================================================\n",
       "Dep. Variable:               surf_avg   R-squared:                       0.948\n",
       "Model:                            OLS   Adj. R-squared:                  0.944\n",
       "Method:                 Least Squares   F-statistic:                     238.1\n",
       "Date:                Wed, 25 May 2016   Prob (F-statistic):           1.84e-78\n",
       "Time:                        15:18:24   Log-Likelihood:                -145.29\n",
       "No. Observations:                 140   AIC:                             310.6\n",
       "Df Residuals:                     130   BIC:                             340.0\n",
       "Df Model:                          10                                         \n",
       "Covariance Type:            nonrobust                                         \n",
       "============================================================================================\n",
       "                               coef    std err          t      P>|t|      [95.0% Conf. Int.]\n",
       "--------------------------------------------------------------------------------------------\n",
       "dew_point                   -5.5594      1.578     -3.523      0.001        -8.682    -2.437\n",
       "screen_relative_humidity     0.9761      0.270      3.617      0.000         0.442     1.510\n",
       "pressure                    -0.1065      0.023     -4.727      0.000        -0.151    -0.062\n",
       "wind_speed                  -0.2005      0.064     -3.134      0.002        -0.327    -0.074\n",
       "sea_temperature             -0.7451      1.567     -0.475      0.635        -3.845     2.355\n",
       "temperature                  7.0864      1.872      3.784      0.000         3.382    10.791\n",
       "wave_height                  1.1509      0.328      3.511      0.001         0.502     1.799\n",
       "wave_period                  0.9278      0.310      2.990      0.003         0.314     1.542\n",
       "wind_direction--SIN          2.0420      0.279      7.307      0.000         1.489     2.595\n",
       "wind_direction--COS          2.6420      0.435      6.078      0.000         1.782     3.502\n",
       "==============================================================================\n",
       "Omnibus:                       80.062   Durbin-Watson:                   0.335\n",
       "Prob(Omnibus):                  0.000   Jarque-Bera (JB):              551.730\n",
       "Skew:                           1.900   Prob(JB):                    1.56e-120\n",
       "Kurtosis:                      11.952   Cond. No.                     4.68e+04\n",
       "==============================================================================\n",
       "\n",
       "Warnings:\n",
       "[1] Standard Errors assume that the covariance matrix of the errors is correctly specified.\n",
       "[2] The condition number is large, 4.68e+04. This might indicate that there are\n",
       "strong multicollinearity or other numerical problems.\n",
       "\"\"\""
      ]
     },
     "execution_count": 142,
     "metadata": {},
     "output_type": "execute_result"
    }
   ],
   "source": [
    "lm = sm.OLS(train_set[target_var], train_set[df_explanatory.columns]).fit()\n",
    "lm.summary()"
   ]
  },
  {
   "cell_type": "markdown",
   "metadata": {},
   "source": [
    "R² value indicates the percentage of variance in the data which are explained by the model. This is a good fit, but also may indicate overfit."
   ]
  },
  {
   "cell_type": "code",
   "execution_count": 143,
   "metadata": {
    "collapsed": false
   },
   "outputs": [
    {
     "name": "stdout",
     "output_type": "stream",
     "text": [
      "p value >= 0.5\n",
      "sea_temperature    0.635233\n",
      "dtype: float64\n",
      "\n",
      "p value < 0.5\n",
      "dew_point                   5.899118e-04\n",
      "screen_relative_humidity    4.259188e-04\n",
      "pressure                    5.838417e-06\n",
      "wind_speed                  2.131974e-03\n",
      "temperature                 2.341197e-04\n",
      "wave_height                 6.138350e-04\n",
      "wave_period                 3.336983e-03\n",
      "wind_direction--SIN         2.461150e-11\n",
      "wind_direction--COS         1.257875e-08\n",
      "dtype: float64\n"
     ]
    }
   ],
   "source": [
    "print('p value >= 0.5')\n",
    "print(lm.pvalues.loc[[v >= 0.05 for v in lm.pvalues]])\n",
    "print()\n",
    "print('p value < 0.5')\n",
    "print(lm.pvalues.loc[[v < 0.05 for v in lm.pvalues]])"
   ]
  },
  {
   "cell_type": "markdown",
   "metadata": {},
   "source": [
    "P value greater than 0.05 means that it is likely that the feature has no importance for prediction. The coefficients 95% confidence interval includes zero.\n",
    "\n",
    "H0 = There is no relationship between feature and target.\n",
    "\n",
    "P value > 0.05 means we fail to reject the null hypothesis."
   ]
  }
 ],
 "metadata": {
  "kernelspec": {
   "display_name": "Python 3",
   "language": "python",
   "name": "python3"
  },
  "language_info": {
   "codemirror_mode": {
    "name": "ipython",
    "version": 3
   },
   "file_extension": ".py",
   "mimetype": "text/x-python",
   "name": "python",
   "nbconvert_exporter": "python",
   "pygments_lexer": "ipython3",
   "version": "3.5.1"
  }
 },
 "nbformat": 4,
 "nbformat_minor": 0
}
